{
 "cells": [
  {
   "cell_type": "code",
   "execution_count": 68,
   "metadata": {},
   "outputs": [],
   "source": [
    "import numpy as np  \n",
    "import pandas as pd \n",
    "%matplotlib inline  \n",
    "import matplotlib as mpl \n",
    "import matplotlib.pyplot as plt \n",
    "from datetime import datetime \n",
    "import itertools \n",
    "from matplotlib.ticker import NullFormatter \n",
    "import matplotlib.ticker as ticker \n",
    "from sklearn import preprocessing \n",
    "from sklearn.model_selection import train_test_split"
   ]
  },
  {
   "cell_type": "code",
   "execution_count": 91,
   "metadata": {},
   "outputs": [
    {
     "name": "stderr",
     "output_type": "stream",
     "text": [
      "/opt/anaconda3/lib/python3.7/site-packages/IPython/core/interactiveshell.py:3063: DtypeWarning: Columns (33) have mixed types.Specify dtype option on import or set low_memory=False.\n",
      "  interactivity=interactivity, compiler=compiler, result=result)\n"
     ]
    }
   ],
   "source": [
    "data=pd.read_csv('/Users/irina/Desktop/Data-Collisions-1.CSV', parse_dates=[\"INCDTTM\",\n",
    "                                                                            \"INCDATE\"])"
   ]
  },
  {
   "cell_type": "code",
   "execution_count": 92,
   "metadata": {},
   "outputs": [
    {
     "data": {
      "text/html": [
       "<div>\n",
       "<style scoped>\n",
       "    .dataframe tbody tr th:only-of-type {\n",
       "        vertical-align: middle;\n",
       "    }\n",
       "\n",
       "    .dataframe tbody tr th {\n",
       "        vertical-align: top;\n",
       "    }\n",
       "\n",
       "    .dataframe thead th {\n",
       "        text-align: right;\n",
       "    }\n",
       "</style>\n",
       "<table border=\"1\" class=\"dataframe\">\n",
       "  <thead>\n",
       "    <tr style=\"text-align: right;\">\n",
       "      <th></th>\n",
       "      <th>SEVERITYCODE</th>\n",
       "      <th>X</th>\n",
       "      <th>Y</th>\n",
       "      <th>OBJECTID</th>\n",
       "      <th>INCKEY</th>\n",
       "      <th>COLDETKEY</th>\n",
       "      <th>REPORTNO</th>\n",
       "      <th>STATUS</th>\n",
       "      <th>ADDRTYPE</th>\n",
       "      <th>INTKEY</th>\n",
       "      <th>...</th>\n",
       "      <th>ROADCOND</th>\n",
       "      <th>LIGHTCOND</th>\n",
       "      <th>PEDROWNOTGRNT</th>\n",
       "      <th>SDOTCOLNUM</th>\n",
       "      <th>SPEEDING</th>\n",
       "      <th>ST_COLCODE</th>\n",
       "      <th>ST_COLDESC</th>\n",
       "      <th>SEGLANEKEY</th>\n",
       "      <th>CROSSWALKKEY</th>\n",
       "      <th>HITPARKEDCAR</th>\n",
       "    </tr>\n",
       "  </thead>\n",
       "  <tbody>\n",
       "    <tr>\n",
       "      <th>0</th>\n",
       "      <td>2</td>\n",
       "      <td>-122.323148</td>\n",
       "      <td>47.703140</td>\n",
       "      <td>1</td>\n",
       "      <td>1307</td>\n",
       "      <td>1307</td>\n",
       "      <td>3502005</td>\n",
       "      <td>Matched</td>\n",
       "      <td>Intersection</td>\n",
       "      <td>37475.0</td>\n",
       "      <td>...</td>\n",
       "      <td>Wet</td>\n",
       "      <td>Daylight</td>\n",
       "      <td>NaN</td>\n",
       "      <td>NaN</td>\n",
       "      <td>NaN</td>\n",
       "      <td>10</td>\n",
       "      <td>Entering at angle</td>\n",
       "      <td>0</td>\n",
       "      <td>0</td>\n",
       "      <td>N</td>\n",
       "    </tr>\n",
       "    <tr>\n",
       "      <th>1</th>\n",
       "      <td>1</td>\n",
       "      <td>-122.347294</td>\n",
       "      <td>47.647172</td>\n",
       "      <td>2</td>\n",
       "      <td>52200</td>\n",
       "      <td>52200</td>\n",
       "      <td>2607959</td>\n",
       "      <td>Matched</td>\n",
       "      <td>Block</td>\n",
       "      <td>NaN</td>\n",
       "      <td>...</td>\n",
       "      <td>Wet</td>\n",
       "      <td>Dark - Street Lights On</td>\n",
       "      <td>NaN</td>\n",
       "      <td>6354039.0</td>\n",
       "      <td>NaN</td>\n",
       "      <td>11</td>\n",
       "      <td>From same direction - both going straight - bo...</td>\n",
       "      <td>0</td>\n",
       "      <td>0</td>\n",
       "      <td>N</td>\n",
       "    </tr>\n",
       "    <tr>\n",
       "      <th>2</th>\n",
       "      <td>1</td>\n",
       "      <td>-122.334540</td>\n",
       "      <td>47.607871</td>\n",
       "      <td>3</td>\n",
       "      <td>26700</td>\n",
       "      <td>26700</td>\n",
       "      <td>1482393</td>\n",
       "      <td>Matched</td>\n",
       "      <td>Block</td>\n",
       "      <td>NaN</td>\n",
       "      <td>...</td>\n",
       "      <td>Dry</td>\n",
       "      <td>Daylight</td>\n",
       "      <td>NaN</td>\n",
       "      <td>4323031.0</td>\n",
       "      <td>NaN</td>\n",
       "      <td>32</td>\n",
       "      <td>One parked--one moving</td>\n",
       "      <td>0</td>\n",
       "      <td>0</td>\n",
       "      <td>N</td>\n",
       "    </tr>\n",
       "    <tr>\n",
       "      <th>3</th>\n",
       "      <td>1</td>\n",
       "      <td>-122.334803</td>\n",
       "      <td>47.604803</td>\n",
       "      <td>4</td>\n",
       "      <td>1144</td>\n",
       "      <td>1144</td>\n",
       "      <td>3503937</td>\n",
       "      <td>Matched</td>\n",
       "      <td>Block</td>\n",
       "      <td>NaN</td>\n",
       "      <td>...</td>\n",
       "      <td>Dry</td>\n",
       "      <td>Daylight</td>\n",
       "      <td>NaN</td>\n",
       "      <td>NaN</td>\n",
       "      <td>NaN</td>\n",
       "      <td>23</td>\n",
       "      <td>From same direction - all others</td>\n",
       "      <td>0</td>\n",
       "      <td>0</td>\n",
       "      <td>N</td>\n",
       "    </tr>\n",
       "    <tr>\n",
       "      <th>4</th>\n",
       "      <td>2</td>\n",
       "      <td>-122.306426</td>\n",
       "      <td>47.545739</td>\n",
       "      <td>5</td>\n",
       "      <td>17700</td>\n",
       "      <td>17700</td>\n",
       "      <td>1807429</td>\n",
       "      <td>Matched</td>\n",
       "      <td>Intersection</td>\n",
       "      <td>34387.0</td>\n",
       "      <td>...</td>\n",
       "      <td>Wet</td>\n",
       "      <td>Daylight</td>\n",
       "      <td>NaN</td>\n",
       "      <td>4028032.0</td>\n",
       "      <td>NaN</td>\n",
       "      <td>10</td>\n",
       "      <td>Entering at angle</td>\n",
       "      <td>0</td>\n",
       "      <td>0</td>\n",
       "      <td>N</td>\n",
       "    </tr>\n",
       "  </tbody>\n",
       "</table>\n",
       "<p>5 rows × 38 columns</p>\n",
       "</div>"
      ],
      "text/plain": [
       "   SEVERITYCODE           X          Y  OBJECTID  INCKEY  COLDETKEY REPORTNO  \\\n",
       "0             2 -122.323148  47.703140         1    1307       1307  3502005   \n",
       "1             1 -122.347294  47.647172         2   52200      52200  2607959   \n",
       "2             1 -122.334540  47.607871         3   26700      26700  1482393   \n",
       "3             1 -122.334803  47.604803         4    1144       1144  3503937   \n",
       "4             2 -122.306426  47.545739         5   17700      17700  1807429   \n",
       "\n",
       "    STATUS      ADDRTYPE   INTKEY  ... ROADCOND                LIGHTCOND  \\\n",
       "0  Matched  Intersection  37475.0  ...      Wet                 Daylight   \n",
       "1  Matched         Block      NaN  ...      Wet  Dark - Street Lights On   \n",
       "2  Matched         Block      NaN  ...      Dry                 Daylight   \n",
       "3  Matched         Block      NaN  ...      Dry                 Daylight   \n",
       "4  Matched  Intersection  34387.0  ...      Wet                 Daylight   \n",
       "\n",
       "  PEDROWNOTGRNT  SDOTCOLNUM SPEEDING ST_COLCODE  \\\n",
       "0           NaN         NaN      NaN         10   \n",
       "1           NaN   6354039.0      NaN         11   \n",
       "2           NaN   4323031.0      NaN         32   \n",
       "3           NaN         NaN      NaN         23   \n",
       "4           NaN   4028032.0      NaN         10   \n",
       "\n",
       "                                          ST_COLDESC  SEGLANEKEY  \\\n",
       "0                                  Entering at angle           0   \n",
       "1  From same direction - both going straight - bo...           0   \n",
       "2                             One parked--one moving           0   \n",
       "3                   From same direction - all others           0   \n",
       "4                                  Entering at angle           0   \n",
       "\n",
       "   CROSSWALKKEY  HITPARKEDCAR  \n",
       "0             0             N  \n",
       "1             0             N  \n",
       "2             0             N  \n",
       "3             0             N  \n",
       "4             0             N  \n",
       "\n",
       "[5 rows x 38 columns]"
      ]
     },
     "execution_count": 92,
     "metadata": {},
     "output_type": "execute_result"
    }
   ],
   "source": [
    "data.head()"
   ]
  },
  {
   "cell_type": "code",
   "execution_count": 71,
   "metadata": {},
   "outputs": [
    {
     "data": {
      "text/plain": [
       "Dry               124510\n",
       "Wet                47474\n",
       "Unknown            15078\n",
       "Ice                 1209\n",
       "Snow/Slush          1004\n",
       "Other                132\n",
       "Standing Water       115\n",
       "Sand/Mud/Dirt         75\n",
       "Oil                   64\n",
       "Name: ROADCOND, dtype: int64"
      ]
     },
     "execution_count": 71,
     "metadata": {},
     "output_type": "execute_result"
    }
   ],
   "source": [
    "data['ROADCOND'].isnull().sum() \n",
    "data['SPEEDING'].isnull().sum() \n",
    "data[\"SPEEDING\"].value_counts() \n",
    "data[\"ROADCOND\"].value_counts()"
   ]
  },
  {
   "cell_type": "code",
   "execution_count": 93,
   "metadata": {},
   "outputs": [],
   "source": [
    "newdata=data.drop(columns=['X', 'Y','SEVERITYDESC', 'STATUS','LOCATION', 'SDOT_COLDESC','EXCEPTRSNDESC','PEDROWNOTGRNT','ST_COLDESC', 'SEGLANEKEY','HITPARKEDCAR','CROSSWALKKEY', 'SDOTCOLNUM','SEVERITYCODE.1', 'COLLISIONTYPE','EXCEPTRSNCODE', 'INTKEY','INCKEY', 'PERSONCOUNT', 'COLDETKEY','PEDCOUNT', 'PEDCYLCOUNT', 'VEHCOUNT', 'REPORTNO', 'SDOT_COLCODE', 'ST_COLCODE']) "
   ]
  },
  {
   "cell_type": "code",
   "execution_count": 94,
   "metadata": {},
   "outputs": [
    {
     "data": {
      "text/html": [
       "<div>\n",
       "<style scoped>\n",
       "    .dataframe tbody tr th:only-of-type {\n",
       "        vertical-align: middle;\n",
       "    }\n",
       "\n",
       "    .dataframe tbody tr th {\n",
       "        vertical-align: top;\n",
       "    }\n",
       "\n",
       "    .dataframe thead th {\n",
       "        text-align: right;\n",
       "    }\n",
       "</style>\n",
       "<table border=\"1\" class=\"dataframe\">\n",
       "  <thead>\n",
       "    <tr style=\"text-align: right;\">\n",
       "      <th></th>\n",
       "      <th>SEVERITYCODE</th>\n",
       "      <th>OBJECTID</th>\n",
       "      <th>ADDRTYPE</th>\n",
       "      <th>INCDATE</th>\n",
       "      <th>INCDTTM</th>\n",
       "      <th>JUNCTIONTYPE</th>\n",
       "      <th>INATTENTIONIND</th>\n",
       "      <th>UNDERINFL</th>\n",
       "      <th>WEATHER</th>\n",
       "      <th>ROADCOND</th>\n",
       "      <th>LIGHTCOND</th>\n",
       "      <th>SPEEDING</th>\n",
       "    </tr>\n",
       "  </thead>\n",
       "  <tbody>\n",
       "    <tr>\n",
       "      <th>0</th>\n",
       "      <td>2</td>\n",
       "      <td>1</td>\n",
       "      <td>Intersection</td>\n",
       "      <td>2013-03-27 00:00:00+00:00</td>\n",
       "      <td>2013-03-27 14:54:00</td>\n",
       "      <td>At Intersection (intersection related)</td>\n",
       "      <td>NaN</td>\n",
       "      <td>N</td>\n",
       "      <td>Overcast</td>\n",
       "      <td>Wet</td>\n",
       "      <td>Daylight</td>\n",
       "      <td>NaN</td>\n",
       "    </tr>\n",
       "    <tr>\n",
       "      <th>1</th>\n",
       "      <td>1</td>\n",
       "      <td>2</td>\n",
       "      <td>Block</td>\n",
       "      <td>2006-12-20 00:00:00+00:00</td>\n",
       "      <td>2006-12-20 18:55:00</td>\n",
       "      <td>Mid-Block (not related to intersection)</td>\n",
       "      <td>NaN</td>\n",
       "      <td>0</td>\n",
       "      <td>Raining</td>\n",
       "      <td>Wet</td>\n",
       "      <td>Dark - Street Lights On</td>\n",
       "      <td>NaN</td>\n",
       "    </tr>\n",
       "    <tr>\n",
       "      <th>2</th>\n",
       "      <td>1</td>\n",
       "      <td>3</td>\n",
       "      <td>Block</td>\n",
       "      <td>2004-11-18 00:00:00+00:00</td>\n",
       "      <td>2004-11-18 10:20:00</td>\n",
       "      <td>Mid-Block (not related to intersection)</td>\n",
       "      <td>NaN</td>\n",
       "      <td>0</td>\n",
       "      <td>Overcast</td>\n",
       "      <td>Dry</td>\n",
       "      <td>Daylight</td>\n",
       "      <td>NaN</td>\n",
       "    </tr>\n",
       "    <tr>\n",
       "      <th>3</th>\n",
       "      <td>1</td>\n",
       "      <td>4</td>\n",
       "      <td>Block</td>\n",
       "      <td>2013-03-29 00:00:00+00:00</td>\n",
       "      <td>2013-03-29 09:26:00</td>\n",
       "      <td>Mid-Block (not related to intersection)</td>\n",
       "      <td>NaN</td>\n",
       "      <td>N</td>\n",
       "      <td>Clear</td>\n",
       "      <td>Dry</td>\n",
       "      <td>Daylight</td>\n",
       "      <td>NaN</td>\n",
       "    </tr>\n",
       "    <tr>\n",
       "      <th>4</th>\n",
       "      <td>2</td>\n",
       "      <td>5</td>\n",
       "      <td>Intersection</td>\n",
       "      <td>2004-01-28 00:00:00+00:00</td>\n",
       "      <td>2004-01-28 08:04:00</td>\n",
       "      <td>At Intersection (intersection related)</td>\n",
       "      <td>NaN</td>\n",
       "      <td>0</td>\n",
       "      <td>Raining</td>\n",
       "      <td>Wet</td>\n",
       "      <td>Daylight</td>\n",
       "      <td>NaN</td>\n",
       "    </tr>\n",
       "  </tbody>\n",
       "</table>\n",
       "</div>"
      ],
      "text/plain": [
       "   SEVERITYCODE  OBJECTID      ADDRTYPE                   INCDATE  \\\n",
       "0             2         1  Intersection 2013-03-27 00:00:00+00:00   \n",
       "1             1         2         Block 2006-12-20 00:00:00+00:00   \n",
       "2             1         3         Block 2004-11-18 00:00:00+00:00   \n",
       "3             1         4         Block 2013-03-29 00:00:00+00:00   \n",
       "4             2         5  Intersection 2004-01-28 00:00:00+00:00   \n",
       "\n",
       "              INCDTTM                             JUNCTIONTYPE INATTENTIONIND  \\\n",
       "0 2013-03-27 14:54:00   At Intersection (intersection related)            NaN   \n",
       "1 2006-12-20 18:55:00  Mid-Block (not related to intersection)            NaN   \n",
       "2 2004-11-18 10:20:00  Mid-Block (not related to intersection)            NaN   \n",
       "3 2013-03-29 09:26:00  Mid-Block (not related to intersection)            NaN   \n",
       "4 2004-01-28 08:04:00   At Intersection (intersection related)            NaN   \n",
       "\n",
       "  UNDERINFL   WEATHER ROADCOND                LIGHTCOND SPEEDING  \n",
       "0         N  Overcast      Wet                 Daylight      NaN  \n",
       "1         0   Raining      Wet  Dark - Street Lights On      NaN  \n",
       "2         0  Overcast      Dry                 Daylight      NaN  \n",
       "3         N     Clear      Dry                 Daylight      NaN  \n",
       "4         0   Raining      Wet                 Daylight      NaN  "
      ]
     },
     "execution_count": 94,
     "metadata": {},
     "output_type": "execute_result"
    }
   ],
   "source": [
    "newdata.head()"
   ]
  },
  {
   "cell_type": "code",
   "execution_count": 95,
   "metadata": {},
   "outputs": [],
   "source": [
    "newdata[\"UNDERINFL\"] = newdata[\"UNDERINFL\"].replace({\"0\": \"N\", \"1\": \"Y\"}) \n",
    "newdata[\"WEATHER\"] = newdata[\"WEATHER\"].replace({\"Unknown\": \"Other\"}) \n",
    "newdata[\"LIGHTCOND\"] = newdata[\"LIGHTCOND\"].replace({\"Dark - No Street Lights\": \"Dark\", \"Dark - Street Lights Off\": \"Dark\", \"Dark - Unknown Lighting\":'Dark',\"Unknown\":\"Other\"})\n",
    " \n",
    "newdata.fillna('N', inplace=True) \n",
    "newdata[\"Year\"]=newdata['INCDATE'].dt.year \n",
    "newdata[\"Month\"]=newdata['INCDATE'].dt.month \n",
    "newdata[\"Weekday\"]=newdata['INCDTTM'].dt.dayofweek \n",
    "newdata[\"Hour\"]=newdata['INCDTTM'].dt.hour \n",
    "# dropping 2020 data \n",
    "newdata = newdata[newdata[\"Year\"] != 2020] \n",
    " "
   ]
  },
  {
   "cell_type": "code",
   "execution_count": 96,
   "metadata": {},
   "outputs": [
    {
     "data": {
      "text/html": [
       "<div>\n",
       "<style scoped>\n",
       "    .dataframe tbody tr th:only-of-type {\n",
       "        vertical-align: middle;\n",
       "    }\n",
       "\n",
       "    .dataframe tbody tr th {\n",
       "        vertical-align: top;\n",
       "    }\n",
       "\n",
       "    .dataframe thead th {\n",
       "        text-align: right;\n",
       "    }\n",
       "</style>\n",
       "<table border=\"1\" class=\"dataframe\">\n",
       "  <thead>\n",
       "    <tr style=\"text-align: right;\">\n",
       "      <th></th>\n",
       "      <th>SEVERITYCODE</th>\n",
       "      <th>OBJECTID</th>\n",
       "      <th>ADDRTYPE</th>\n",
       "      <th>INCDATE</th>\n",
       "      <th>INCDTTM</th>\n",
       "      <th>JUNCTIONTYPE</th>\n",
       "      <th>INATTENTIONIND</th>\n",
       "      <th>UNDERINFL</th>\n",
       "      <th>WEATHER</th>\n",
       "      <th>ROADCOND</th>\n",
       "      <th>LIGHTCOND</th>\n",
       "      <th>SPEEDING</th>\n",
       "      <th>Year</th>\n",
       "      <th>Month</th>\n",
       "      <th>Weekday</th>\n",
       "      <th>Hour</th>\n",
       "    </tr>\n",
       "  </thead>\n",
       "  <tbody>\n",
       "    <tr>\n",
       "      <th>0</th>\n",
       "      <td>2</td>\n",
       "      <td>1</td>\n",
       "      <td>Intersection</td>\n",
       "      <td>2013-03-27 00:00:00+00:00</td>\n",
       "      <td>2013-03-27 14:54:00</td>\n",
       "      <td>At Intersection (intersection related)</td>\n",
       "      <td>N</td>\n",
       "      <td>N</td>\n",
       "      <td>Overcast</td>\n",
       "      <td>Wet</td>\n",
       "      <td>Daylight</td>\n",
       "      <td>N</td>\n",
       "      <td>2013</td>\n",
       "      <td>3</td>\n",
       "      <td>2</td>\n",
       "      <td>14</td>\n",
       "    </tr>\n",
       "    <tr>\n",
       "      <th>1</th>\n",
       "      <td>1</td>\n",
       "      <td>2</td>\n",
       "      <td>Block</td>\n",
       "      <td>2006-12-20 00:00:00+00:00</td>\n",
       "      <td>2006-12-20 18:55:00</td>\n",
       "      <td>Mid-Block (not related to intersection)</td>\n",
       "      <td>N</td>\n",
       "      <td>N</td>\n",
       "      <td>Raining</td>\n",
       "      <td>Wet</td>\n",
       "      <td>Dark - Street Lights On</td>\n",
       "      <td>N</td>\n",
       "      <td>2006</td>\n",
       "      <td>12</td>\n",
       "      <td>2</td>\n",
       "      <td>18</td>\n",
       "    </tr>\n",
       "    <tr>\n",
       "      <th>2</th>\n",
       "      <td>1</td>\n",
       "      <td>3</td>\n",
       "      <td>Block</td>\n",
       "      <td>2004-11-18 00:00:00+00:00</td>\n",
       "      <td>2004-11-18 10:20:00</td>\n",
       "      <td>Mid-Block (not related to intersection)</td>\n",
       "      <td>N</td>\n",
       "      <td>N</td>\n",
       "      <td>Overcast</td>\n",
       "      <td>Dry</td>\n",
       "      <td>Daylight</td>\n",
       "      <td>N</td>\n",
       "      <td>2004</td>\n",
       "      <td>11</td>\n",
       "      <td>3</td>\n",
       "      <td>10</td>\n",
       "    </tr>\n",
       "    <tr>\n",
       "      <th>3</th>\n",
       "      <td>1</td>\n",
       "      <td>4</td>\n",
       "      <td>Block</td>\n",
       "      <td>2013-03-29 00:00:00+00:00</td>\n",
       "      <td>2013-03-29 09:26:00</td>\n",
       "      <td>Mid-Block (not related to intersection)</td>\n",
       "      <td>N</td>\n",
       "      <td>N</td>\n",
       "      <td>Clear</td>\n",
       "      <td>Dry</td>\n",
       "      <td>Daylight</td>\n",
       "      <td>N</td>\n",
       "      <td>2013</td>\n",
       "      <td>3</td>\n",
       "      <td>4</td>\n",
       "      <td>9</td>\n",
       "    </tr>\n",
       "    <tr>\n",
       "      <th>4</th>\n",
       "      <td>2</td>\n",
       "      <td>5</td>\n",
       "      <td>Intersection</td>\n",
       "      <td>2004-01-28 00:00:00+00:00</td>\n",
       "      <td>2004-01-28 08:04:00</td>\n",
       "      <td>At Intersection (intersection related)</td>\n",
       "      <td>N</td>\n",
       "      <td>N</td>\n",
       "      <td>Raining</td>\n",
       "      <td>Wet</td>\n",
       "      <td>Daylight</td>\n",
       "      <td>N</td>\n",
       "      <td>2004</td>\n",
       "      <td>1</td>\n",
       "      <td>2</td>\n",
       "      <td>8</td>\n",
       "    </tr>\n",
       "  </tbody>\n",
       "</table>\n",
       "</div>"
      ],
      "text/plain": [
       "   SEVERITYCODE  OBJECTID      ADDRTYPE                   INCDATE  \\\n",
       "0             2         1  Intersection 2013-03-27 00:00:00+00:00   \n",
       "1             1         2         Block 2006-12-20 00:00:00+00:00   \n",
       "2             1         3         Block 2004-11-18 00:00:00+00:00   \n",
       "3             1         4         Block 2013-03-29 00:00:00+00:00   \n",
       "4             2         5  Intersection 2004-01-28 00:00:00+00:00   \n",
       "\n",
       "              INCDTTM                             JUNCTIONTYPE INATTENTIONIND  \\\n",
       "0 2013-03-27 14:54:00   At Intersection (intersection related)              N   \n",
       "1 2006-12-20 18:55:00  Mid-Block (not related to intersection)              N   \n",
       "2 2004-11-18 10:20:00  Mid-Block (not related to intersection)              N   \n",
       "3 2013-03-29 09:26:00  Mid-Block (not related to intersection)              N   \n",
       "4 2004-01-28 08:04:00   At Intersection (intersection related)              N   \n",
       "\n",
       "  UNDERINFL   WEATHER ROADCOND                LIGHTCOND SPEEDING  Year  Month  \\\n",
       "0         N  Overcast      Wet                 Daylight        N  2013      3   \n",
       "1         N   Raining      Wet  Dark - Street Lights On        N  2006     12   \n",
       "2         N  Overcast      Dry                 Daylight        N  2004     11   \n",
       "3         N     Clear      Dry                 Daylight        N  2013      3   \n",
       "4         N   Raining      Wet                 Daylight        N  2004      1   \n",
       "\n",
       "   Weekday  Hour  \n",
       "0        2    14  \n",
       "1        2    18  \n",
       "2        3    10  \n",
       "3        4     9  \n",
       "4        2     8  "
      ]
     },
     "execution_count": 96,
     "metadata": {},
     "output_type": "execute_result"
    }
   ],
   "source": [
    "newdata.head()"
   ]
  },
  {
   "cell_type": "code",
   "execution_count": 76,
   "metadata": {},
   "outputs": [
    {
     "data": {
      "text/plain": [
       "SEVERITYCODE\n",
       "1    134923\n",
       "2     57505\n",
       "Name: WEATHER, dtype: int64"
      ]
     },
     "execution_count": 76,
     "metadata": {},
     "output_type": "execute_result"
    }
   ],
   "source": [
    "new=newdata.groupby(['SEVERITYCODE'])['WEATHER'].count() \n",
    "new "
   ]
  },
  {
   "cell_type": "code",
   "execution_count": 77,
   "metadata": {},
   "outputs": [
    {
     "data": {
      "image/png": "[encoded data removed]",
      "text/plain": [
       "<Figure size 720x360 with 1 Axes>"
      ]
     },
     "metadata": {
      "needs_background": "light"
     },
     "output_type": "display_data"
    },
    {
     "data": {
      "text/plain": [
       "<matplotlib.axes._subplots.AxesSubplot at 0x1a1d493c90>"
      ]
     },
     "execution_count": 77,
     "metadata": {},
     "output_type": "execute_result"
    },
    {
     "data": {
      "image/png": "[encoded data removed]",
      "text/plain": [
       "<Figure size 432x288 with 1 Axes>"
      ]
     },
     "metadata": {
      "needs_background": "light"
     },
     "output_type": "display_data"
    }
   ],
   "source": [
    "# sorting out weather data for plotting \n",
    "weather_data = newdata['WEATHER'].value_counts().to_frame('count') \n",
    "weather_data \n",
    "#histogram plotting for weather data \n",
    "weather_data.plot.bar(figsize=(10, 5)) \n",
    "plt.title('Historgram of Weather in relations to number of accidents') \n",
    "plt.show() \n",
    "newdata.pivot_table(index='WEATHER', \n",
    "                columns='SEVERITYCODE', aggfunc='size').plot.barh(stacked=True)"
   ]
  },
  {
   "cell_type": "code",
   "execution_count": 13,
   "metadata": {},
   "outputs": [
    {
     "data": {
      "text/plain": [
       "<matplotlib.axes._subplots.AxesSubplot at 0x1a1faac6d0>"
      ]
     },
     "execution_count": 13,
     "metadata": {},
     "output_type": "execute_result"
    },
    {
     "data": {
      "image/png": "[encoded data removed]",
      "text/plain": [
       "<Figure size 432x288 with 1 Axes>"
      ]
     },
     "metadata": {
      "needs_background": "light"
     },
     "output_type": "display_data"
    }
   ],
   "source": [
    "#looking at speeding variable \n",
    "speeding_data = newdata['SPEEDING'].value_counts().to_frame('count') \n",
    "speeding_data \n",
    "newdata.pivot_table(index='SPEEDING', \n",
    "                    columns='SEVERITYCODE', aggfunc='size').plot.barh(stacked=True) "
   ]
  },
  {
   "cell_type": "code",
   "execution_count": 14,
   "metadata": {},
   "outputs": [
    {
     "data": {
      "text/plain": [
       "<matplotlib.axes._subplots.AxesSubplot at 0x1a20a73410>"
      ]
     },
     "execution_count": 14,
     "metadata": {},
     "output_type": "execute_result"
    },
    {
     "data": {
      "image/png": "[encoded data removed]",
      "text/plain": [
       "<Figure size 432x288 with 1 Axes>"
      ]
     },
     "metadata": {
      "needs_background": "light"
     },
     "output_type": "display_data"
    }
   ],
   "source": [
    " #looking at underinfluence variable \n",
    "underinfluence_data = newdata['UNDERINFL'].value_counts().to_frame('count') \n",
    "underinfluence_data \n",
    "newdata.pivot_table(index='UNDERINFL', \n",
    "                    columns='SEVERITYCODE', aggfunc='size').plot.barh(stacked=True)"
   ]
  },
  {
   "cell_type": "code",
   "execution_count": 15,
   "metadata": {},
   "outputs": [
    {
     "data": {
      "text/plain": [
       "<matplotlib.axes._subplots.AxesSubplot at 0x1a20a73610>"
      ]
     },
     "execution_count": 15,
     "metadata": {},
     "output_type": "execute_result"
    },
    {
     "data": {
      "image/png": "[encoded data removed]",
      "text/plain": [
       "<Figure size 432x288 with 1 Axes>"
      ]
     },
     "metadata": {
      "needs_background": "light"
     },
     "output_type": "display_data"
    }
   ],
   "source": [
    "#looking at unattention variable \n",
    "inattention_data = newdata['INATTENTIONIND'].value_counts().to_frame('count') \n",
    "inattention_data \n",
    "newdata.pivot_table(index='INATTENTIONIND', \n",
    "               columns='SEVERITYCODE', aggfunc='size').plot.barh(stacked=True) "
   ]
  },
  {
   "cell_type": "code",
   "execution_count": 16,
   "metadata": {},
   "outputs": [
    {
     "data": {
      "image/png": "[encoded data removed]",
      "text/plain": [
       "<Figure size 720x360 with 1 Axes>"
      ]
     },
     "metadata": {
      "needs_background": "light"
     },
     "output_type": "display_data"
    },
    {
     "data": {
      "text/plain": [
       "<matplotlib.axes._subplots.AxesSubplot at 0x1a1b8dbe50>"
      ]
     },
     "execution_count": 16,
     "metadata": {},
     "output_type": "execute_result"
    },
    {
     "data": {
      "image/png": "[encoded data removed]",
      "text/plain": [
       "<Figure size 432x288 with 1 Axes>"
      ]
     },
     "metadata": {
      "needs_background": "light"
     },
     "output_type": "display_data"
    }
   ],
   "source": [
    "#looking at address type variable \n",
    "addresstype_data = newdata['ADDRTYPE'].value_counts().to_frame('count') \n",
    "addresstype_data\n",
    "#histogram plotting for address type data \n",
    "addresstype_data.plot.bar(figsize=(10, 5)) \n",
    "plt.title('Historgram of address type in relations to number of accidents') \n",
    "plt.show() \n",
    "newdata.pivot_table(index='ADDRTYPE', \n",
    "               columns='SEVERITYCODE', aggfunc='size').plot.barh(stacked=True)"
   ]
  },
  {
   "cell_type": "code",
   "execution_count": 18,
   "metadata": {},
   "outputs": [
    {
     "data": {
      "image/png": "[encoded data removed]",
      "text/plain": [
       "<Figure size 720x360 with 1 Axes>"
      ]
     },
     "metadata": {
      "needs_background": "light"
     },
     "output_type": "display_data"
    },
    {
     "data": {
      "text/plain": [
       "<matplotlib.axes._subplots.AxesSubplot at 0x1a1bed2690>"
      ]
     },
     "execution_count": 18,
     "metadata": {},
     "output_type": "execute_result"
    },
    {
     "data": {
      "image/png": "[encoded data removed]",
      "text/plain": [
       "<Figure size 432x288 with 1 Axes>"
      ]
     },
     "metadata": {
      "needs_background": "light"
     },
     "output_type": "display_data"
    }
   ],
   "source": [
    " #looking at road conditions variable \n",
    "roadcondition_data = newdata['ROADCOND'].value_counts().to_frame('count') \n",
    "roadcondition_data\n",
    "#histogram plotting for road conditions data \n",
    "roadcondition_data.plot.bar(figsize=(10, 5)) \n",
    "plt.title('Historgram of road conditions in relations to number of accidents') \n",
    "plt.show() \n",
    "newdata.pivot_table(index='ROADCOND', \n",
    "               columns='SEVERITYCODE', aggfunc='size').plot.barh(stacked=True) "
   ]
  },
  {
   "cell_type": "code",
   "execution_count": 19,
   "metadata": {},
   "outputs": [
    {
     "data": {
      "text/plain": [
       "<matplotlib.axes._subplots.AxesSubplot at 0x1a1beee210>"
      ]
     },
     "execution_count": 19,
     "metadata": {},
     "output_type": "execute_result"
    },
    {
     "data": {
      "image/png": "[encoded data removed]",
      "text/plain": [
       "<Figure size 432x288 with 1 Axes>"
      ]
     },
     "metadata": {
      "needs_background": "light"
     },
     "output_type": "display_data"
    }
   ],
   "source": [
    "# sorting out light conditions data for plotting \n",
    "lighting_data = newdata['LIGHTCOND'].value_counts().to_frame('count') \n",
    "lighting_data \n",
    "newdata.pivot_table(index='LIGHTCOND', \n",
    "                    columns='SEVERITYCODE', aggfunc='size').plot.barh(stacked=True)"
   ]
  },
  {
   "cell_type": "code",
   "execution_count": 20,
   "metadata": {},
   "outputs": [
    {
     "data": {
      "text/html": [
       "<div>\n",
       "<style scoped>\n",
       "    .dataframe tbody tr th:only-of-type {\n",
       "        vertical-align: middle;\n",
       "    }\n",
       "\n",
       "    .dataframe tbody tr th {\n",
       "        vertical-align: top;\n",
       "    }\n",
       "\n",
       "    .dataframe thead th {\n",
       "        text-align: right;\n",
       "    }\n",
       "</style>\n",
       "<table border=\"1\" class=\"dataframe\">\n",
       "  <thead>\n",
       "    <tr style=\"text-align: right;\">\n",
       "      <th></th>\n",
       "      <th>count</th>\n",
       "    </tr>\n",
       "  </thead>\n",
       "  <tbody>\n",
       "    <tr>\n",
       "      <th>Mid-Block (not related to intersection)</th>\n",
       "      <td>88675</td>\n",
       "    </tr>\n",
       "    <tr>\n",
       "      <th>At Intersection (intersection related)</th>\n",
       "      <td>61930</td>\n",
       "    </tr>\n",
       "    <tr>\n",
       "      <th>Mid-Block (but intersection related)</th>\n",
       "      <td>22669</td>\n",
       "    </tr>\n",
       "    <tr>\n",
       "      <th>Driveway Junction</th>\n",
       "      <td>10568</td>\n",
       "    </tr>\n",
       "    <tr>\n",
       "      <th>N</th>\n",
       "      <td>6314</td>\n",
       "    </tr>\n",
       "    <tr>\n",
       "      <th>At Intersection (but not related to intersection)</th>\n",
       "      <td>2097</td>\n",
       "    </tr>\n",
       "    <tr>\n",
       "      <th>Ramp Junction</th>\n",
       "      <td>166</td>\n",
       "    </tr>\n",
       "    <tr>\n",
       "      <th>Unknown</th>\n",
       "      <td>9</td>\n",
       "    </tr>\n",
       "  </tbody>\n",
       "</table>\n",
       "</div>"
      ],
      "text/plain": [
       "                                                   count\n",
       "Mid-Block (not related to intersection)            88675\n",
       "At Intersection (intersection related)             61930\n",
       "Mid-Block (but intersection related)               22669\n",
       "Driveway Junction                                  10568\n",
       "N                                                   6314\n",
       "At Intersection (but not related to intersection)   2097\n",
       "Ramp Junction                                        166\n",
       "Unknown                                                9"
      ]
     },
     "execution_count": 20,
     "metadata": {},
     "output_type": "execute_result"
    }
   ],
   "source": [
    " #looking at junction type variable \n",
    "junctiontype_data = newdata['JUNCTIONTYPE'].value_counts().to_frame('count') \n",
    "junctiontype_data "
   ]
  },
  {
   "cell_type": "code",
   "execution_count": 21,
   "metadata": {},
   "outputs": [
    {
     "data": {
      "text/plain": [
       "SEVERITYCODE  UNDERINFL\n",
       "1             N            129364\n",
       "              Y              5559\n",
       "2             N             53943\n",
       "              Y              3562\n",
       "Name: UNDERINFL, dtype: int64"
      ]
     },
     "execution_count": 21,
     "metadata": {},
     "output_type": "execute_result"
    }
   ],
   "source": [
    "new=newdata.groupby(['SEVERITYCODE','UNDERINFL'])[\"UNDERINFL\"].count() \n",
    "new "
   ]
  },
  {
   "cell_type": "code",
   "execution_count": 97,
   "metadata": {},
   "outputs": [
    {
     "data": {
      "text/html": [
       "<div>\n",
       "<style scoped>\n",
       "    .dataframe tbody tr th:only-of-type {\n",
       "        vertical-align: middle;\n",
       "    }\n",
       "\n",
       "    .dataframe tbody tr th {\n",
       "        vertical-align: top;\n",
       "    }\n",
       "\n",
       "    .dataframe thead th {\n",
       "        text-align: right;\n",
       "    }\n",
       "</style>\n",
       "<table border=\"1\" class=\"dataframe\">\n",
       "  <thead>\n",
       "    <tr style=\"text-align: right;\">\n",
       "      <th></th>\n",
       "      <th>OBJECTID</th>\n",
       "    </tr>\n",
       "    <tr>\n",
       "      <th>INCDTTM</th>\n",
       "      <th></th>\n",
       "    </tr>\n",
       "  </thead>\n",
       "  <tbody>\n",
       "    <tr>\n",
       "      <th>Friday</th>\n",
       "      <td>31908</td>\n",
       "    </tr>\n",
       "    <tr>\n",
       "      <th>Monday</th>\n",
       "      <td>26042</td>\n",
       "    </tr>\n",
       "    <tr>\n",
       "      <th>Saturday</th>\n",
       "      <td>27090</td>\n",
       "    </tr>\n",
       "    <tr>\n",
       "      <th>Sunday</th>\n",
       "      <td>21731</td>\n",
       "    </tr>\n",
       "    <tr>\n",
       "      <th>Thursday</th>\n",
       "      <td>28940</td>\n",
       "    </tr>\n",
       "    <tr>\n",
       "      <th>Tuesday</th>\n",
       "      <td>28281</td>\n",
       "    </tr>\n",
       "    <tr>\n",
       "      <th>Wednesday</th>\n",
       "      <td>28436</td>\n",
       "    </tr>\n",
       "  </tbody>\n",
       "</table>\n",
       "</div>"
      ],
      "text/plain": [
       "           OBJECTID\n",
       "INCDTTM            \n",
       "Friday        31908\n",
       "Monday        26042\n",
       "Saturday      27090\n",
       "Sunday        21731\n",
       "Thursday      28940\n",
       "Tuesday       28281\n",
       "Wednesday     28436"
      ]
     },
     "execution_count": 97,
     "metadata": {},
     "output_type": "execute_result"
    }
   ],
   "source": [
    " #most accidents have happened on friday \n",
    "newdata.groupby(newdata[\"INCDTTM\"].dt.day_name())[\"OBJECTID\"].count().to_frame()"
   ]
  },
  {
   "cell_type": "code",
   "execution_count": 98,
   "metadata": {},
   "outputs": [
    {
     "data": {
      "text/html": [
       "<div>\n",
       "<style scoped>\n",
       "    .dataframe tbody tr th:only-of-type {\n",
       "        vertical-align: middle;\n",
       "    }\n",
       "\n",
       "    .dataframe tbody tr th {\n",
       "        vertical-align: top;\n",
       "    }\n",
       "\n",
       "    .dataframe thead th {\n",
       "        text-align: right;\n",
       "    }\n",
       "</style>\n",
       "<table border=\"1\" class=\"dataframe\">\n",
       "  <thead>\n",
       "    <tr style=\"text-align: right;\">\n",
       "      <th></th>\n",
       "      <th>OBJECTID</th>\n",
       "    </tr>\n",
       "    <tr>\n",
       "      <th>INCDATE</th>\n",
       "      <th></th>\n",
       "    </tr>\n",
       "  </thead>\n",
       "  <tbody>\n",
       "    <tr>\n",
       "      <th>2004-01-31 00:00:00+00:00</th>\n",
       "      <td>31.5</td>\n",
       "    </tr>\n",
       "    <tr>\n",
       "      <th>2004-02-29 00:00:00+00:00</th>\n",
       "      <td>30.8</td>\n",
       "    </tr>\n",
       "    <tr>\n",
       "      <th>2004-03-31 00:00:00+00:00</th>\n",
       "      <td>33.2</td>\n",
       "    </tr>\n",
       "    <tr>\n",
       "      <th>2004-04-30 00:00:00+00:00</th>\n",
       "      <td>35.1</td>\n",
       "    </tr>\n",
       "    <tr>\n",
       "      <th>2004-05-31 00:00:00+00:00</th>\n",
       "      <td>37.0</td>\n",
       "    </tr>\n",
       "    <tr>\n",
       "      <th>2004-06-30 00:00:00+00:00</th>\n",
       "      <td>36.6</td>\n",
       "    </tr>\n",
       "    <tr>\n",
       "      <th>2004-07-31 00:00:00+00:00</th>\n",
       "      <td>34.8</td>\n",
       "    </tr>\n",
       "    <tr>\n",
       "      <th>2004-08-31 00:00:00+00:00</th>\n",
       "      <td>35.2</td>\n",
       "    </tr>\n",
       "    <tr>\n",
       "      <th>2004-09-30 00:00:00+00:00</th>\n",
       "      <td>34.3</td>\n",
       "    </tr>\n",
       "    <tr>\n",
       "      <th>2004-10-31 00:00:00+00:00</th>\n",
       "      <td>31.7</td>\n",
       "    </tr>\n",
       "  </tbody>\n",
       "</table>\n",
       "</div>"
      ],
      "text/plain": [
       "                           OBJECTID\n",
       "INCDATE                            \n",
       "2004-01-31 00:00:00+00:00      31.5\n",
       "2004-02-29 00:00:00+00:00      30.8\n",
       "2004-03-31 00:00:00+00:00      33.2\n",
       "2004-04-30 00:00:00+00:00      35.1\n",
       "2004-05-31 00:00:00+00:00      37.0\n",
       "2004-06-30 00:00:00+00:00      36.6\n",
       "2004-07-31 00:00:00+00:00      34.8\n",
       "2004-08-31 00:00:00+00:00      35.2\n",
       "2004-09-30 00:00:00+00:00      34.3\n",
       "2004-10-31 00:00:00+00:00      31.7"
      ]
     },
     "execution_count": 98,
     "metadata": {},
     "output_type": "execute_result"
    }
   ],
   "source": [
    " \n",
    "sum=newdata.groupby([\"INCDATE\"])[\"OBJECTID\"].count().to_frame() \n",
    "mean = sum.resample(\"M\").mean().round(decimals=1) \n",
    "mean.head(10)"
   ]
  },
  {
   "cell_type": "code",
   "execution_count": 39,
   "metadata": {},
   "outputs": [
    {
     "data": {
      "image/png": "[encoded data removed]",
      "text/plain": [
       "<Figure size 1080x432 with 1 Axes>"
      ]
     },
     "metadata": {
      "needs_background": "light"
     },
     "output_type": "display_data"
    }
   ],
   "source": [
    "# compare monthly average values over time\n",
    "\n",
    "mean.plot(figsize=(15,6));\n",
    "plt.xlabel(\"Date\", size=14);\n",
    "plt.ylabel(\"Mean\", size=14, rotation=\"horizontal\", labelpad=20);\n",
    "plt.xticks(rotation=10, ha=\"center\", size=14);\n",
    "plt.yticks(size=14);\n",
    "plt.title('Average Total Collision Related Counts per Month', size=14);\n",
    "plt.show();"
   ]
  },
  {
   "cell_type": "code",
   "execution_count": 26,
   "metadata": {},
   "outputs": [
    {
     "data": {
      "text/html": [
       "<div>\n",
       "<style scoped>\n",
       "    .dataframe tbody tr th:only-of-type {\n",
       "        vertical-align: middle;\n",
       "    }\n",
       "\n",
       "    .dataframe tbody tr th {\n",
       "        vertical-align: top;\n",
       "    }\n",
       "\n",
       "    .dataframe thead th {\n",
       "        text-align: right;\n",
       "    }\n",
       "</style>\n",
       "<table border=\"1\" class=\"dataframe\">\n",
       "  <thead>\n",
       "    <tr style=\"text-align: right;\">\n",
       "      <th></th>\n",
       "      <th>count</th>\n",
       "    </tr>\n",
       "  </thead>\n",
       "  <tbody>\n",
       "    <tr>\n",
       "      <th>N</th>\n",
       "      <td>162623</td>\n",
       "    </tr>\n",
       "    <tr>\n",
       "      <th>Y</th>\n",
       "      <td>29805</td>\n",
       "    </tr>\n",
       "  </tbody>\n",
       "</table>\n",
       "</div>"
      ],
      "text/plain": [
       "    count\n",
       "N  162623\n",
       "Y   29805"
      ]
     },
     "execution_count": 26,
     "metadata": {},
     "output_type": "execute_result"
    }
   ],
   "source": [
    "newdata['INATTENTIONIND'].value_counts().to_frame('count')"
   ]
  },
  {
   "cell_type": "code",
   "execution_count": 28,
   "metadata": {},
   "outputs": [
    {
     "data": {
      "image/png": "[encoded data removed]",
      "text/plain": [
       "<Figure size 1152x720 with 1 Axes>"
      ]
     },
     "metadata": {
      "needs_background": "light"
     },
     "output_type": "display_data"
    }
   ],
   "source": [
    " #here we will look into distribution of the collisions through the day. Number of accidents per hour.  \n",
    "#There is a big spike of acidents at midnight  \n",
    "newdata.groupby([newdata[\"INCDTTM\"].dt.hour, \n",
    "            newdata[\"INCDTTM\"].dt.day_name()])[\"OBJECTID\"].count().unstack().plot(figsize=(16,10),  \n",
    "                                                                                  xticks=(list(range(0,25,1))), \n",
    "                                                                                  ylim=(0,8500), \n",
    "                                                                                  grid=True); \n",
    "plt.xlabel(\"Hours\", size=16); \n",
    "plt.ylabel(\"Total \\nCollisions\", size=16, rotation=\"horizontal\", labelpad=20); \n",
    "plt.title('Average Total Number of Collisions by Hour of the Day', size=14); "
   ]
  },
  {
   "cell_type": "code",
   "execution_count": 99,
   "metadata": {},
   "outputs": [
    {
     "data": {
      "text/plain": [
       "array([3, 1, 0, 6, 4, 5, 2])"
      ]
     },
     "execution_count": 99,
     "metadata": {},
     "output_type": "execute_result"
    }
   ],
   "source": [
    "label_encoder = preprocessing.LabelEncoder()     \n",
    "# Chnaging categorical variables into numerical \n",
    "# Encode labels in columns \n",
    "newdata['ADDRTYPE']= label_encoder.fit_transform(newdata['ADDRTYPE'])  \n",
    "newdata['ADDRTYPE'].unique()  \n",
    " \n",
    "newdata['INATTENTIONIND']= label_encoder.fit_transform(newdata['INATTENTIONIND'])    \n",
    "newdata['INATTENTIONIND'].unique() \n",
    " \n",
    "newdata['UNDERINFL']= label_encoder.fit_transform(newdata['UNDERINFL'])    \n",
    "newdata['UNDERINFL'].unique() \n",
    " \n",
    "newdata['WEATHER']= label_encoder.fit_transform(newdata['WEATHER'])    \n",
    "newdata['WEATHER'].unique() \n",
    " \n",
    "newdata['ROADCOND']= label_encoder.fit_transform(newdata['ROADCOND'])    \n",
    "newdata['ROADCOND'].unique() \n",
    " \n",
    "newdata['LIGHTCOND']= label_encoder.fit_transform(newdata['LIGHTCOND'])    \n",
    "newdata['LIGHTCOND'].unique() "
   ]
  },
  {
   "cell_type": "code",
   "execution_count": 101,
   "metadata": {},
   "outputs": [
    {
     "data": {
      "text/plain": [
       "array([[ 2,  3,  2, 14,  0,  0,  5,  9,  3],\n",
       "       [ 1, 12,  2, 18,  0,  0,  6,  9,  1],\n",
       "       [ 1, 11,  3, 10,  0,  0,  5,  0,  3],\n",
       "       [ 1,  3,  4,  9,  0,  0,  1,  0,  3],\n",
       "       [ 2,  1,  2,  8,  0,  0,  6,  9,  3]])"
      ]
     },
     "execution_count": 101,
     "metadata": {},
     "output_type": "execute_result"
    }
   ],
   "source": [
    "#K Nearest Neighboor model \n",
    "X = newdata[['ADDRTYPE', 'Month', 'Weekday','Hour', 'INATTENTIONIND', 'UNDERINFL', 'WEATHER', 'ROADCOND', 'LIGHTCOND']].values \n",
    "X[0:5]"
   ]
  },
  {
   "cell_type": "code",
   "execution_count": 102,
   "metadata": {},
   "outputs": [
    {
     "data": {
      "text/plain": [
       "array([2, 1, 1, 1, 2])"
      ]
     },
     "execution_count": 102,
     "metadata": {},
     "output_type": "execute_result"
    }
   ],
   "source": [
    "# assigning the outcomes vaalues \n",
    " \n",
    "y = newdata['SEVERITYCODE'].values \n",
    "y[0:5] "
   ]
  },
  {
   "cell_type": "code",
   "execution_count": 103,
   "metadata": {},
   "outputs": [
    {
     "data": {
      "text/plain": [
       "array([[ 1.28743862, -1.05392195, -0.48819756,  0.39507051, -0.42810823,\n",
       "        -0.22306514,  1.04405489,  1.49369408,  0.1984074 ],\n",
       "       [-0.69225803,  1.58092401, -0.48819756,  0.96202277, -0.42810823,\n",
       "        -0.22306514,  1.50958675,  1.49369408, -1.28206412],\n",
       "       [-0.69225803,  1.28816335,  0.03201663, -0.17188175, -0.42810823,\n",
       "        -0.22306514,  1.04405489, -0.71363674,  0.1984074 ],\n",
       "       [-0.69225803, -1.05392195,  0.55223082, -0.31361981, -0.42810823,\n",
       "        -0.22306514, -0.81807254, -0.71363674,  0.1984074 ],\n",
       "       [ 1.28743862, -1.63944328, -0.48819756, -0.45535788, -0.42810823,\n",
       "        -0.22306514,  1.50958675,  1.49369408,  0.1984074 ]])"
      ]
     },
     "execution_count": 103,
     "metadata": {},
     "output_type": "execute_result"
    }
   ],
   "source": [
    "# normalizing the data \n",
    "X = preprocessing.StandardScaler().fit(X).transform(X.astype(float)) \n",
    "X[0:5] "
   ]
  },
  {
   "cell_type": "code",
   "execution_count": 104,
   "metadata": {},
   "outputs": [
    {
     "name": "stdout",
     "output_type": "stream",
     "text": [
      "Train set: (153942, 9) (153942,)\n",
      "Test set: (38486, 9) (38486,)\n"
     ]
    }
   ],
   "source": [
    " #splitting the dataset into training and testing set \n",
    "X_train, X_test, y_train, y_test = train_test_split( X, y, test_size=0.2, random_state=4) \n",
    "print ('Train set:', X_train.shape,  y_train.shape) \n",
    "print ('Test set:', X_test.shape,  y_test.shape)"
   ]
  },
  {
   "cell_type": "markdown",
   "metadata": {},
   "source": [
    "## K Nearest Neighboor model"
   ]
  },
  {
   "cell_type": "code",
   "execution_count": 105,
   "metadata": {},
   "outputs": [],
   "source": [
    "# import the libarary \n",
    "from sklearn.neighbors import KNeighborsClassifier "
   ]
  },
  {
   "cell_type": "code",
   "execution_count": 126,
   "metadata": {},
   "outputs": [
    {
     "data": {
      "text/plain": [
       "KNeighborsClassifier(algorithm='auto', leaf_size=30, metric='minkowski',\n",
       "                     metric_params=None, n_jobs=None, n_neighbors=8, p=2,\n",
       "                     weights='uniform')"
      ]
     },
     "execution_count": 126,
     "metadata": {},
     "output_type": "execute_result"
    }
   ],
   "source": [
    "k = 8\n",
    "#Train Model and Predict   \n",
    "neigh = KNeighborsClassifier(n_neighbors = k).fit(X_train,y_train) \n",
    "neigh "
   ]
  },
  {
   "cell_type": "code",
   "execution_count": 123,
   "metadata": {},
   "outputs": [
    {
     "data": {
      "text/plain": [
       "array([1, 1, 1, 1, 1])"
      ]
     },
     "execution_count": 123,
     "metadata": {},
     "output_type": "execute_result"
    }
   ],
   "source": [
    "yhatKNN = neigh.predict(X_test) \n",
    "yhatKNN[0:5]"
   ]
  },
  {
   "cell_type": "code",
   "execution_count": 127,
   "metadata": {},
   "outputs": [
    {
     "name": "stdout",
     "output_type": "stream",
     "text": [
      "Train set Accuracy:  0.7226487898039521\n",
      "Test set Accuracy:  1.0\n"
     ]
    }
   ],
   "source": [
    "from sklearn import metrics\n",
    "print(\"Train set Accuracy: \", metrics.accuracy_score(y_train, neigh.predict(X_train))) \n",
    "print(\"Test set Accuracy: \", metrics.accuracy_score(y_test, yhat)) "
   ]
  },
  {
   "cell_type": "code",
   "execution_count": 109,
   "metadata": {},
   "outputs": [
    {
     "data": {
      "text/plain": [
       "array([0.61248246, 0.6775191 , 0.63937536, 0.68022138, 0.65618667,\n",
       "       0.68276776, 0.66476121, 0.68588578, 0.67253027])"
      ]
     },
     "execution_count": 109,
     "metadata": {},
     "output_type": "execute_result"
    }
   ],
   "source": [
    "# estimating the right K  \n",
    "Ks = 10 \n",
    "mean_acc = np.zeros((Ks-1)) \n",
    "std_acc = np.zeros((Ks-1)) \n",
    "ConfustionMx = []; \n",
    "for n in range(1,Ks): \n",
    "     \n",
    "    #Train Model and Predict   \n",
    "    neigh = KNeighborsClassifier(n_neighbors = n).fit(X_train,y_train) \n",
    "    yhatKNN=neigh.predict(X_test) \n",
    "    mean_acc[n-1] = metrics.accuracy_score(y_test, yhatKNN)       \n",
    "    std_acc[n-1]=np.std(yhatKNN==y_test)/np.sqrt(yhatKNN\n",
    "                                                 .shape[0])  \n",
    "mean_acc"
   ]
  },
  {
   "cell_type": "code",
   "execution_count": 121,
   "metadata": {},
   "outputs": [
    {
     "data": {
      "image/png": "[encoded data removed]",
      "text/plain": [
       "<Figure size 432x288 with 1 Axes>"
      ]
     },
     "metadata": {
      "needs_background": "light"
     },
     "output_type": "display_data"
    }
   ],
   "source": [
    "plt.plot(range(1,Ks),mean_acc,'g') \n",
    "plt.fill_between(range(1,Ks),mean_acc - 1 * std_acc,mean_acc + 1 * std_acc, alpha=0.10) \n",
    "plt.legend(('Accuracy ', '+/- 3xstd')) \n",
    "plt.ylabel('Accuracy ') \n",
    "plt.xlabel('Number of Nabors (K)') \n",
    "plt.tight_layout() \n",
    "plt.show() "
   ]
  },
  {
   "cell_type": "markdown",
   "metadata": {},
   "source": [
    "## Decision Tree"
   ]
  },
  {
   "cell_type": "code",
   "execution_count": 111,
   "metadata": {},
   "outputs": [],
   "source": [
    "from sklearn.tree import DecisionTreeClassifier\n",
    "loanTree = DecisionTreeClassifier(criterion=\"entropy\", max_depth = 4)\n",
    "loanTree # it shows the default parameters\n",
    "loanTree.fit(X_train,y_train)\n",
    "predTree = loanTree.predict(X_test)"
   ]
  },
  {
   "cell_type": "code",
   "execution_count": 112,
   "metadata": {},
   "outputs": [
    {
     "name": "stdout",
     "output_type": "stream",
     "text": [
      "[1 1 1 1 1]\n",
      "[2 1 2 1 1]\n",
      "DecisionTrees's Accuracy:  0.6999428363560776\n"
     ]
    }
   ],
   "source": [
    "print (predTree [0:5])\n",
    "print (y_test [0:5])\n",
    "print(\"DecisionTrees's Accuracy: \", metrics.accuracy_score(y_test, predTree))"
   ]
  },
  {
   "cell_type": "markdown",
   "metadata": {},
   "source": [
    "## Support Vector Machine"
   ]
  },
  {
   "cell_type": "code",
   "execution_count": 113,
   "metadata": {},
   "outputs": [
    {
     "data": {
      "text/plain": [
       "array([1, 1, 1, 1, 1])"
      ]
     },
     "execution_count": 113,
     "metadata": {},
     "output_type": "execute_result"
    }
   ],
   "source": [
    "from sklearn import svm\n",
    "clf = svm.SVC(kernel='rbf')\n",
    "clf.fit(X_train, y_train) \n",
    "yhatSVM = clf.predict(X_test)\n",
    "yhatSVM [0:5]"
   ]
  },
  {
   "cell_type": "markdown",
   "metadata": {},
   "source": [
    "## Logistic Regression"
   ]
  },
  {
   "cell_type": "code",
   "execution_count": 114,
   "metadata": {},
   "outputs": [
    {
     "data": {
      "text/plain": [
       "LogisticRegression(C=0.01, class_weight=None, dual=False, fit_intercept=True,\n",
       "                   intercept_scaling=1, l1_ratio=None, max_iter=100,\n",
       "                   multi_class='auto', n_jobs=None, penalty='l2',\n",
       "                   random_state=None, solver='liblinear', tol=0.0001, verbose=0,\n",
       "                   warm_start=False)"
      ]
     },
     "execution_count": 114,
     "metadata": {},
     "output_type": "execute_result"
    }
   ],
   "source": [
    "from sklearn.linear_model import LogisticRegression\n",
    "from sklearn.metrics import confusion_matrix\n",
    "LR = LogisticRegression(C=0.01, solver='liblinear').fit(X_train,y_train)\n",
    "LR"
   ]
  },
  {
   "cell_type": "code",
   "execution_count": 115,
   "metadata": {},
   "outputs": [
    {
     "data": {
      "text/plain": [
       "array([1, 1, 1, 1, 1])"
      ]
     },
     "execution_count": 115,
     "metadata": {},
     "output_type": "execute_result"
    }
   ],
   "source": [
    "yhatLR = LR.predict(X_test)\n",
    "yhatLR [0:5]"
   ]
  },
  {
   "cell_type": "code",
   "execution_count": 116,
   "metadata": {},
   "outputs": [
    {
     "data": {
      "text/plain": [
       "array([[0.71262147, 0.28737853],\n",
       "       [0.78370481, 0.21629519],\n",
       "       [0.86459477, 0.13540523],\n",
       "       [0.76463056, 0.23536944],\n",
       "       [0.76556118, 0.23443882]])"
      ]
     },
     "execution_count": 116,
     "metadata": {},
     "output_type": "execute_result"
    }
   ],
   "source": [
    "yhatLR_prob = LR.predict_proba(X_test)\n",
    "yhatLR_prob [0:5]"
   ]
  },
  {
   "cell_type": "markdown",
   "metadata": {},
   "source": [
    "## Models Evaluation"
   ]
  },
  {
   "cell_type": "code",
   "execution_count": 117,
   "metadata": {},
   "outputs": [],
   "source": [
    "from sklearn.metrics import jaccard_similarity_score\n",
    "from sklearn.metrics import f1_score\n",
    "from sklearn.metrics import log_loss"
   ]
  },
  {
   "cell_type": "code",
   "execution_count": 128,
   "metadata": {},
   "outputs": [
    {
     "name": "stdout",
     "output_type": "stream",
     "text": [
      "0.6725302707478044\n",
      "0.6999428363560776\n",
      "0.6957594969599334\n",
      "0.7001766876266694\n"
     ]
    },
    {
     "name": "stderr",
     "output_type": "stream",
     "text": [
      "/opt/anaconda3/lib/python3.7/site-packages/sklearn/metrics/_classification.py:664: FutureWarning: jaccard_similarity_score has been deprecated and replaced with jaccard_score. It will be removed in version 0.23. This implementation has surprising behavior for binary and multiclass classification tasks.\n",
      "  FutureWarning)\n"
     ]
    }
   ],
   "source": [
    "from sklearn.metrics import jaccard_similarity_score\n",
    "print(jaccard_similarity_score(y_test, yhatKNN))\n",
    "print(jaccard_similarity_score(y_test, predTree))\n",
    "print(jaccard_similarity_score(y_test, yhatLR))\n",
    "print(jaccard_similarity_score(y_test, yhatSVM))"
   ]
  },
  {
   "cell_type": "code",
   "execution_count": 129,
   "metadata": {},
   "outputs": [
    {
     "name": "stdout",
     "output_type": "stream",
     "text": [
      "0.6366119137741079\n",
      "0.5861071925325738\n",
      "0.5882714668635011\n",
      "0.5827914754113983\n"
     ]
    }
   ],
   "source": [
    "from sklearn.metrics import f1_score\n",
    "print(f1_score(y_test, yhatKNN, average='weighted') )\n",
    "print(f1_score(y_test, predTree, average='weighted') )\n",
    "print(f1_score(y_test, yhatLR, average='weighted') )\n",
    "print(f1_score(y_test, yhatSVM, average='weighted') )"
   ]
  },
  {
   "cell_type": "code",
   "execution_count": 120,
   "metadata": {},
   "outputs": [
    {
     "data": {
      "text/plain": [
       "0.5880745736976761"
      ]
     },
     "execution_count": 120,
     "metadata": {},
     "output_type": "execute_result"
    }
   ],
   "source": [
    "\n",
    "\n",
    "from sklearn.metrics import log_loss\n",
    "log_loss(y_test, yhatLR_prob)\n",
    "\n"
   ]
  },
  {
   "cell_type": "markdown",
   "metadata": {},
   "source": [
    "## using the modeling without time series"
   ]
  },
  {
   "cell_type": "code",
   "execution_count": 130,
   "metadata": {},
   "outputs": [
    {
     "data": {
      "text/plain": [
       "array([[2, 0, 0, 5, 9, 3],\n",
       "       [1, 0, 0, 6, 9, 1],\n",
       "       [1, 0, 0, 5, 0, 3],\n",
       "       [1, 0, 0, 1, 0, 3],\n",
       "       [2, 0, 0, 6, 9, 3]])"
      ]
     },
     "execution_count": 130,
     "metadata": {},
     "output_type": "execute_result"
    }
   ],
   "source": [
    "#K Nearest Neighboor model \n",
    "X2 = newdata[['ADDRTYPE', 'INATTENTIONIND', 'UNDERINFL', 'WEATHER', 'ROADCOND', 'LIGHTCOND']].values \n",
    "X2[0:5]"
   ]
  },
  {
   "cell_type": "code",
   "execution_count": 132,
   "metadata": {},
   "outputs": [
    {
     "data": {
      "text/plain": [
       "array([[ 1.28743862, -1.05392195, -0.48819756,  0.39507051, -0.42810823,\n",
       "        -0.22306514,  1.04405489,  1.49369408,  0.1984074 ],\n",
       "       [-0.69225803,  1.58092401, -0.48819756,  0.96202277, -0.42810823,\n",
       "        -0.22306514,  1.50958675,  1.49369408, -1.28206412],\n",
       "       [-0.69225803,  1.28816335,  0.03201663, -0.17188175, -0.42810823,\n",
       "        -0.22306514,  1.04405489, -0.71363674,  0.1984074 ],\n",
       "       [-0.69225803, -1.05392195,  0.55223082, -0.31361981, -0.42810823,\n",
       "        -0.22306514, -0.81807254, -0.71363674,  0.1984074 ],\n",
       "       [ 1.28743862, -1.63944328, -0.48819756, -0.45535788, -0.42810823,\n",
       "        -0.22306514,  1.50958675,  1.49369408,  0.1984074 ]])"
      ]
     },
     "execution_count": 132,
     "metadata": {},
     "output_type": "execute_result"
    }
   ],
   "source": [
    "# normalizing the data \n",
    "X2 = preprocessing.StandardScaler().fit(X).transform(X.astype(float)) \n",
    "X2[0:5]"
   ]
  },
  {
   "cell_type": "code",
   "execution_count": 145,
   "metadata": {},
   "outputs": [
    {
     "name": "stdout",
     "output_type": "stream",
     "text": [
      "Train set: (153942, 9) (153942,)\n",
      "Test set: (38486, 9) (38486,)\n"
     ]
    }
   ],
   "source": [
    " #splitting the dataset into training and testing set \n",
    "X2_train, X2_test, y2_train, y2_test = train_test_split( X2, y, test_size=0.2, random_state=4) \n",
    "print ('Train set:', X2_train.shape,  y2_train.shape) \n",
    "print ('Test set:', X2_test.shape,  y2_test.shape)"
   ]
  },
  {
   "cell_type": "code",
   "execution_count": null,
   "metadata": {},
   "outputs": [],
   "source": []
  },
  {
   "cell_type": "code",
   "execution_count": 146,
   "metadata": {},
   "outputs": [
    {
     "data": {
      "text/plain": [
       "KNeighborsClassifier(algorithm='auto', leaf_size=30, metric='minkowski',\n",
       "                     metric_params=None, n_jobs=None, n_neighbors=8, p=2,\n",
       "                     weights='uniform')"
      ]
     },
     "execution_count": 146,
     "metadata": {},
     "output_type": "execute_result"
    }
   ],
   "source": [
    "k = 8\n",
    "#Train Model and Predict   \n",
    "neigh = KNeighborsClassifier(n_neighbors = k).fit(X2_train,y2_train) \n",
    "neigh"
   ]
  },
  {
   "cell_type": "code",
   "execution_count": 147,
   "metadata": {},
   "outputs": [],
   "source": [
    "yhatKNN2 = neigh.predict(X2_test) \n"
   ]
  },
  {
   "cell_type": "code",
   "execution_count": 148,
   "metadata": {},
   "outputs": [
    {
     "data": {
      "text/plain": [
       "array([0.68559996, 0.68559996, 0.68559996, 0.68559996, 0.68559996,\n",
       "       0.68559996, 0.68559996, 0.68559996, 0.68559996])"
      ]
     },
     "execution_count": 148,
     "metadata": {},
     "output_type": "execute_result"
    }
   ],
   "source": [
    "# estimating the right K  \n",
    "Ks = 10 \n",
    "mean_acc = np.zeros((Ks-1)) \n",
    "std_acc = np.zeros((Ks-1)) \n",
    "ConfustionMx = []; \n",
    "for n in range(1,Ks): \n",
    "     \n",
    "    #Train Model and Predict   \n",
    "    neigh = KNeighborsClassifier(n_neighbors = n).fit(X2_train,y2_train) \n",
    "    yhatKNN=neigh.predict(X2_test) \n",
    "    mean_acc[n-1] = metrics.accuracy_score(y2_test, yhatKNN2)       \n",
    "    std_acc[n-1]=np.std(yhatKNN2==y2_test)/np.sqrt(yhatKNN2\n",
    "                                                 .shape[0])  \n",
    "mean_acc"
   ]
  },
  {
   "cell_type": "code",
   "execution_count": 149,
   "metadata": {},
   "outputs": [],
   "source": [
    "loanTree = DecisionTreeClassifier(criterion=\"entropy\", max_depth = 4)\n",
    "loanTree # it shows the default parameters\n",
    "loanTree.fit(X2_train,y2_train)\n",
    "predTree2 = loanTree.predict(X2_test)"
   ]
  },
  {
   "cell_type": "code",
   "execution_count": 150,
   "metadata": {},
   "outputs": [],
   "source": [
    "clf = svm.SVC(kernel='rbf')\n",
    "clf.fit(X2_train, y2_train) \n",
    "yhatSVM2 = clf.predict(X2_test)\n"
   ]
  },
  {
   "cell_type": "code",
   "execution_count": 151,
   "metadata": {},
   "outputs": [],
   "source": [
    "LR2 = LogisticRegression(C=0.01, solver='liblinear').fit(X2_train,y2_train)\n"
   ]
  },
  {
   "cell_type": "code",
   "execution_count": 152,
   "metadata": {},
   "outputs": [],
   "source": [
    "yhatLR2 = LR2.predict(X2_test)\n",
    "yhatLR_prob2 = LR2.predict_proba(X2_test)"
   ]
  },
  {
   "cell_type": "code",
   "execution_count": 154,
   "metadata": {},
   "outputs": [
    {
     "name": "stdout",
     "output_type": "stream",
     "text": [
      "0.6855999584264408\n",
      "0.6999428363560776\n",
      "0.6957594969599334\n",
      "0.7001766876266694\n"
     ]
    }
   ],
   "source": [
    "print(jaccard_similarity_score(y2_test, yhatKNN2))\n",
    "print(jaccard_similarity_score(y2_test, predTree2))\n",
    "print(jaccard_similarity_score(y2_test, yhatLR2))\n",
    "print(jaccard_similarity_score(y2_test, yhatSVM2))"
   ]
  },
  {
   "cell_type": "code",
   "execution_count": 155,
   "metadata": {},
   "outputs": [
    {
     "name": "stdout",
     "output_type": "stream",
     "text": [
      "0.6291219563425324\n",
      "0.5861071925325738\n",
      "0.5882714668635011\n",
      "0.5827914754113983\n"
     ]
    }
   ],
   "source": [
    "print(f1_score(y2_test, yhatKNN2, average='weighted') )\n",
    "print(f1_score(y2_test, predTree2, average='weighted') )\n",
    "print(f1_score(y2_test, yhatLR2, average='weighted') )\n",
    "print(f1_score(y2_test, yhatSVM2, average='weighted') )"
   ]
  },
  {
   "cell_type": "code",
   "execution_count": null,
   "metadata": {},
   "outputs": [],
   "source": []
  }
 ],
 "metadata": {
  "kernelspec": {
   "display_name": "Python 3",
   "language": "python",
   "name": "python3"
  },
  "language_info": {
   "codemirror_mode": {
    "name": "ipython",
    "version": 3
   },
   "file_extension": ".py",
   "mimetype": "text/x-python",
   "name": "python",
   "nbconvert_exporter": "python",
   "pygments_lexer": "ipython3",
   "version": "3.7.6"
  }
 },
 "nbformat": 4,
 "nbformat_minor": 4
}
